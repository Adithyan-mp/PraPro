{
 "cells": [
  {
   "cell_type": "code",
   "execution_count": 2,
   "metadata": {},
   "outputs": [
    {
     "name": "stderr",
     "output_type": "stream",
     "text": [
      "Downloading images:   0%|          | 1/10000 [00:01<3:47:28,  1.36s/it]"
     ]
    },
    {
     "name": "stdout",
     "output_type": "stream",
     "text": [
      "CPU Usage: 8.5%\n",
      "Network Usage (bytes sent/received): 1557793/4844317\n"
     ]
    },
    {
     "name": "stderr",
     "output_type": "stream",
     "text": [
      "Downloading images:   0%|          | 2/10000 [00:04<6:04:46,  2.19s/it]"
     ]
    },
    {
     "name": "stdout",
     "output_type": "stream",
     "text": [
      "CPU Usage: 5.4%\n",
      "Network Usage (bytes sent/received): 1561953/4866262\n"
     ]
    },
    {
     "name": "stderr",
     "output_type": "stream",
     "text": [
      "Downloading images:   0%|          | 3/10000 [00:05<5:03:53,  1.82s/it]"
     ]
    },
    {
     "name": "stdout",
     "output_type": "stream",
     "text": [
      "CPU Usage: 5.0%\n",
      "Network Usage (bytes sent/received): 1563553/4875372\n"
     ]
    },
    {
     "name": "stderr",
     "output_type": "stream",
     "text": [
      "Downloading images:   0%|          | 4/10000 [00:06<4:40:46,  1.69s/it]"
     ]
    },
    {
     "name": "stdout",
     "output_type": "stream",
     "text": [
      "CPU Usage: 8.8%\n",
      "Network Usage (bytes sent/received): 1564494/4883816\n",
      "Failed to download image from URL: https://images.halloweencostumes.co.uk/products/30611/1-21/womens-princess-little-deer-native-american-costume.jpg\n",
      "Error: 404 Client Error: Not Found for url: https://images.halloweencostumes.co.uk/products/30611/1-21/womens-princess-little-deer-native-american-costume.jpg\n"
     ]
    },
    {
     "name": "stderr",
     "output_type": "stream",
     "text": [
      "Downloading images:   0%|          | 5/10000 [00:09<5:21:42,  1.93s/it]"
     ]
    },
    {
     "name": "stdout",
     "output_type": "stream",
     "text": [
      "CPU Usage: 12.6%\n",
      "Network Usage (bytes sent/received): 1572477/4890894\n"
     ]
    },
    {
     "name": "stderr",
     "output_type": "stream",
     "text": [
      "Downloading images:   0%|          | 6/10000 [00:11<5:35:59,  2.02s/it]"
     ]
    },
    {
     "name": "stdout",
     "output_type": "stream",
     "text": [
      "CPU Usage: 4.3%\n",
      "Network Usage (bytes sent/received): 1578406/4936679\n"
     ]
    },
    {
     "name": "stderr",
     "output_type": "stream",
     "text": [
      "Downloading images:   0%|          | 7/10000 [00:13<5:29:29,  1.98s/it]"
     ]
    },
    {
     "name": "stdout",
     "output_type": "stream",
     "text": [
      "CPU Usage: 4.8%\n",
      "Network Usage (bytes sent/received): 1580483/4945137\n"
     ]
    },
    {
     "name": "stderr",
     "output_type": "stream",
     "text": [
      "Downloading images:   0%|          | 8/10000 [00:15<5:25:56,  1.96s/it]"
     ]
    },
    {
     "name": "stdout",
     "output_type": "stream",
     "text": [
      "CPU Usage: 13.2%\n",
      "Network Usage (bytes sent/received): 1588566/4990027\n"
     ]
    },
    {
     "name": "stderr",
     "output_type": "stream",
     "text": [
      "Downloading images:   0%|          | 9/10000 [00:16<5:02:04,  1.81s/it]"
     ]
    },
    {
     "name": "stdout",
     "output_type": "stream",
     "text": [
      "CPU Usage: 10.6%\n",
      "Network Usage (bytes sent/received): 1600087/5283558\n",
      "Failed to download image from URL: http://media.independent.com/img/croppedphotos/2012/06/04/snow-white-huntsmen_t479.jpg?ad14627618f647f3902aa65ed5ac8237c798b1ef\n",
      "Error: HTTPConnectionPool(host='media.independent.com', port=80): Max retries exceeded with url: /img/croppedphotos/2012/06/04/snow-white-huntsmen_t479.jpg?ad14627618f647f3902aa65ed5ac8237c798b1ef (Caused by ConnectTimeoutError(<urllib3.connection.HTTPConnection object at 0x000002CD0DBBEAD0>, 'Connection to media.independent.com timed out. (connect timeout=None)'))\n"
     ]
    },
    {
     "name": "stderr",
     "output_type": "stream",
     "text": [
      "Downloading images:   0%|          | 10/10000 [00:38<22:24:34,  8.08s/it]"
     ]
    },
    {
     "name": "stdout",
     "output_type": "stream",
     "text": [
      "CPU Usage: 94.2%\n",
      "Network Usage (bytes sent/received): 1693255/5394447\n"
     ]
    },
    {
     "name": "stderr",
     "output_type": "stream",
     "text": [
      "Downloading images:   0%|          | 11/10000 [00:41<18:02:08,  6.50s/it]"
     ]
    },
    {
     "name": "stdout",
     "output_type": "stream",
     "text": [
      "CPU Usage: 100.0%\n",
      "Network Usage (bytes sent/received): 1709946/5465863\n"
     ]
    },
    {
     "name": "stderr",
     "output_type": "stream",
     "text": [
      "Downloading images:   0%|          | 12/10000 [00:44<14:27:44,  5.21s/it]"
     ]
    },
    {
     "name": "stdout",
     "output_type": "stream",
     "text": [
      "CPU Usage: 67.0%\n",
      "Network Usage (bytes sent/received): 1714820/5511319\n"
     ]
    },
    {
     "name": "stderr",
     "output_type": "stream",
     "text": [
      "Downloading images:   0%|          | 13/10000 [00:45<11:14:38,  4.05s/it]"
     ]
    },
    {
     "name": "stdout",
     "output_type": "stream",
     "text": [
      "CPU Usage: 91.6%\n",
      "Network Usage (bytes sent/received): 1736652/5654256\n"
     ]
    },
    {
     "name": "stderr",
     "output_type": "stream",
     "text": [
      "Downloading images:   0%|          | 14/10000 [00:46<9:01:39,  3.25s/it] "
     ]
    },
    {
     "name": "stdout",
     "output_type": "stream",
     "text": [
      "CPU Usage: 61.2%\n",
      "Network Usage (bytes sent/received): 1744661/5871130\n"
     ]
    },
    {
     "name": "stderr",
     "output_type": "stream",
     "text": [
      "Downloading images:   0%|          | 15/10000 [00:48<7:58:08,  2.87s/it]"
     ]
    },
    {
     "name": "stdout",
     "output_type": "stream",
     "text": [
      "CPU Usage: 30.5%\n",
      "Network Usage (bytes sent/received): 1746627/5892190\n"
     ]
    },
    {
     "name": "stderr",
     "output_type": "stream",
     "text": [
      "Downloading images:   0%|          | 16/10000 [00:51<7:25:12,  2.68s/it]"
     ]
    },
    {
     "name": "stdout",
     "output_type": "stream",
     "text": [
      "CPU Usage: 46.9%\n",
      "Network Usage (bytes sent/received): 1748550/5916548\n"
     ]
    },
    {
     "name": "stderr",
     "output_type": "stream",
     "text": [
      "Downloading images:   0%|          | 17/10000 [00:53<7:05:05,  2.55s/it]"
     ]
    },
    {
     "name": "stdout",
     "output_type": "stream",
     "text": [
      "CPU Usage: 36.0%\n",
      "Network Usage (bytes sent/received): 1750500/5984053\n"
     ]
    },
    {
     "name": "stderr",
     "output_type": "stream",
     "text": [
      "Downloading images:   0%|          | 18/10000 [00:55<7:00:30,  2.53s/it]"
     ]
    },
    {
     "name": "stdout",
     "output_type": "stream",
     "text": [
      "CPU Usage: 59.5%\n",
      "Network Usage (bytes sent/received): 1755526/6093334\n",
      "Failed to download image from URL: http://i0.wp.com/kokice.me/wp-content/uploads/2016/08/bernardo-old.jpg?resize=1080%2C720\n",
      "Error: 403 Client Error: Forbidden for url: http://i0.wp.com/kokice.me/wp-content/uploads/2016/08/bernardo-old.jpg?resize=1080%2C720\n"
     ]
    },
    {
     "name": "stderr",
     "output_type": "stream",
     "text": [
      "Downloading images:   0%|          | 19/10000 [00:57<6:35:03,  2.37s/it]"
     ]
    },
    {
     "name": "stdout",
     "output_type": "stream",
     "text": [
      "CPU Usage: 32.1%\n",
      "Network Usage (bytes sent/received): 1757077/6094188\n"
     ]
    },
    {
     "name": "stderr",
     "output_type": "stream",
     "text": [
      "Downloading images:   0%|          | 20/10000 [00:59<6:05:11,  2.20s/it]"
     ]
    },
    {
     "name": "stdout",
     "output_type": "stream",
     "text": [
      "CPU Usage: 83.0%\n",
      "Network Usage (bytes sent/received): 1758556/6113272\n"
     ]
    },
    {
     "name": "stderr",
     "output_type": "stream",
     "text": [
      "Downloading images:   0%|          | 21/10000 [01:01<5:25:02,  1.95s/it]"
     ]
    },
    {
     "name": "stdout",
     "output_type": "stream",
     "text": [
      "CPU Usage: 34.1%\n",
      "Network Usage (bytes sent/received): 1762333/6133233\n"
     ]
    },
    {
     "name": "stderr",
     "output_type": "stream",
     "text": [
      "Downloading images:   0%|          | 22/10000 [01:02<4:50:54,  1.75s/it]"
     ]
    },
    {
     "name": "stdout",
     "output_type": "stream",
     "text": [
      "CPU Usage: 29.7%\n",
      "Network Usage (bytes sent/received): 1764102/6152145\n"
     ]
    },
    {
     "name": "stderr",
     "output_type": "stream",
     "text": [
      "Downloading images:   0%|          | 23/10000 [01:03<4:40:28,  1.69s/it]"
     ]
    },
    {
     "name": "stdout",
     "output_type": "stream",
     "text": [
      "CPU Usage: 32.8%\n",
      "Network Usage (bytes sent/received): 1766927/6221406\n"
     ]
    },
    {
     "name": "stderr",
     "output_type": "stream",
     "text": [
      "Downloading images:   0%|          | 24/10000 [01:06<5:43:36,  2.07s/it]"
     ]
    },
    {
     "name": "stdout",
     "output_type": "stream",
     "text": [
      "CPU Usage: 22.9%\n",
      "Network Usage (bytes sent/received): 1808289/6880435\n"
     ]
    },
    {
     "name": "stderr",
     "output_type": "stream",
     "text": [
      "Downloading images:   0%|          | 25/10000 [01:09<6:24:07,  2.31s/it]"
     ]
    },
    {
     "name": "stdout",
     "output_type": "stream",
     "text": [
      "CPU Usage: 38.8%\n",
      "Network Usage (bytes sent/received): 1817137/7251609\n"
     ]
    },
    {
     "name": "stderr",
     "output_type": "stream",
     "text": [
      "Downloading images:   0%|          | 26/10000 [01:11<5:41:04,  2.05s/it]"
     ]
    },
    {
     "name": "stdout",
     "output_type": "stream",
     "text": [
      "CPU Usage: 14.1%\n",
      "Network Usage (bytes sent/received): 1819725/7314508\n"
     ]
    },
    {
     "name": "stderr",
     "output_type": "stream",
     "text": [
      "Downloading images:   0%|          | 27/10000 [01:13<5:38:37,  2.04s/it]"
     ]
    },
    {
     "name": "stdout",
     "output_type": "stream",
     "text": [
      "CPU Usage: 22.9%\n",
      "Network Usage (bytes sent/received): 1823408/7354806\n",
      "Failed to download image from URL: https://www.ment.si/wp-content/uploads/2020/08/Waves_fb_event.png\n",
      "Error: 404 Client Error: Not Found for url: https://www.ment.si/wp-content/uploads/2020/08/Waves_fb_event.png\n"
     ]
    },
    {
     "name": "stderr",
     "output_type": "stream",
     "text": [
      "Downloading images:   0%|          | 28/10000 [01:15<6:12:23,  2.24s/it]"
     ]
    },
    {
     "name": "stdout",
     "output_type": "stream",
     "text": [
      "CPU Usage: 13.2%\n",
      "Network Usage (bytes sent/received): 1825837/7380082\n"
     ]
    },
    {
     "name": "stderr",
     "output_type": "stream",
     "text": [
      "Downloading images:   0%|          | 29/10000 [01:17<5:27:49,  1.97s/it]"
     ]
    },
    {
     "name": "stdout",
     "output_type": "stream",
     "text": [
      "CPU Usage: 11.3%\n",
      "Network Usage (bytes sent/received): 1827513/7396758\n"
     ]
    },
    {
     "name": "stderr",
     "output_type": "stream",
     "text": [
      "Downloading images:   0%|          | 30/10000 [01:18<4:54:20,  1.77s/it]"
     ]
    },
    {
     "name": "stdout",
     "output_type": "stream",
     "text": [
      "CPU Usage: 11.4%\n",
      "Network Usage (bytes sent/received): 1832054/7562994\n"
     ]
    },
    {
     "name": "stderr",
     "output_type": "stream",
     "text": [
      "Downloading images:   0%|          | 31/10000 [01:19<4:24:49,  1.59s/it]"
     ]
    },
    {
     "name": "stdout",
     "output_type": "stream",
     "text": [
      "CPU Usage: 10.5%\n",
      "Network Usage (bytes sent/received): 1834017/7580789\n"
     ]
    },
    {
     "name": "stderr",
     "output_type": "stream",
     "text": [
      "Downloading images:   0%|          | 32/10000 [01:21<4:55:16,  1.78s/it]"
     ]
    },
    {
     "name": "stdout",
     "output_type": "stream",
     "text": [
      "CPU Usage: 12.1%\n",
      "Network Usage (bytes sent/received): 1837642/7653271\n"
     ]
    },
    {
     "name": "stderr",
     "output_type": "stream",
     "text": [
      "Downloading images:   0%|          | 33/10000 [01:23<5:01:12,  1.81s/it]"
     ]
    },
    {
     "name": "stdout",
     "output_type": "stream",
     "text": [
      "CPU Usage: 14.9%\n",
      "Network Usage (bytes sent/received): 1839072/7695432\n"
     ]
    },
    {
     "name": "stderr",
     "output_type": "stream",
     "text": [
      "Downloading images:   0%|          | 34/10000 [01:25<5:15:57,  1.90s/it]"
     ]
    },
    {
     "name": "stdout",
     "output_type": "stream",
     "text": [
      "CPU Usage: 15.9%\n",
      "Network Usage (bytes sent/received): 1844722/7916834\n"
     ]
    },
    {
     "name": "stderr",
     "output_type": "stream",
     "text": [
      "Downloading images:   0%|          | 35/10000 [01:27<5:08:09,  1.86s/it]"
     ]
    },
    {
     "name": "stdout",
     "output_type": "stream",
     "text": [
      "CPU Usage: 13.0%\n",
      "Network Usage (bytes sent/received): 1848040/8021021\n"
     ]
    },
    {
     "name": "stderr",
     "output_type": "stream",
     "text": [
      "Downloading images:   0%|          | 36/10000 [01:29<4:50:07,  1.75s/it]"
     ]
    },
    {
     "name": "stdout",
     "output_type": "stream",
     "text": [
      "CPU Usage: 11.9%\n",
      "Network Usage (bytes sent/received): 1850214/8060774\n"
     ]
    },
    {
     "name": "stderr",
     "output_type": "stream",
     "text": [
      "Downloading images:   0%|          | 37/10000 [01:32<5:48:01,  2.10s/it]"
     ]
    },
    {
     "name": "stdout",
     "output_type": "stream",
     "text": [
      "CPU Usage: 12.3%\n",
      "Network Usage (bytes sent/received): 1855566/8306990\n"
     ]
    },
    {
     "name": "stderr",
     "output_type": "stream",
     "text": [
      "Downloading images:   0%|          | 38/10000 [01:33<5:15:45,  1.90s/it]"
     ]
    },
    {
     "name": "stdout",
     "output_type": "stream",
     "text": [
      "CPU Usage: 12.8%\n",
      "Network Usage (bytes sent/received): 1857614/8339738\n",
      "Failed to download image from URL: http://posteri.bg/image/cache/data/poster-maxi-framed/PP31801-R-402-RG-600x800.jpg\n",
      "Error: 404 Client Error: Not Found for url: https://posteri.bg/image/cache/data/poster-maxi-framed/PP31801-R-402-RG-600x800.jpg\n"
     ]
    },
    {
     "name": "stderr",
     "output_type": "stream",
     "text": [
      "Downloading images:   0%|          | 39/10000 [01:36<5:57:12,  2.15s/it]"
     ]
    },
    {
     "name": "stdout",
     "output_type": "stream",
     "text": [
      "CPU Usage: 12.7%\n",
      "Network Usage (bytes sent/received): 1859855/8347395\n"
     ]
    },
    {
     "name": "stderr",
     "output_type": "stream",
     "text": [
      "Downloading images:   0%|          | 40/10000 [01:38<6:06:33,  2.21s/it]"
     ]
    },
    {
     "name": "stdout",
     "output_type": "stream",
     "text": [
      "CPU Usage: 16.0%\n",
      "Network Usage (bytes sent/received): 1862976/8432740\n"
     ]
    },
    {
     "name": "stderr",
     "output_type": "stream",
     "text": [
      "Downloading images:   0%|          | 41/10000 [01:41<6:26:13,  2.33s/it]"
     ]
    },
    {
     "name": "stdout",
     "output_type": "stream",
     "text": [
      "CPU Usage: 12.3%\n",
      "Network Usage (bytes sent/received): 1867764/8574252\n"
     ]
    },
    {
     "name": "stderr",
     "output_type": "stream",
     "text": [
      "Downloading images:   0%|          | 42/10000 [01:42<5:39:26,  2.05s/it]"
     ]
    },
    {
     "name": "stdout",
     "output_type": "stream",
     "text": [
      "CPU Usage: 12.1%\n",
      "Network Usage (bytes sent/received): 1872286/8737906\n"
     ]
    },
    {
     "name": "stderr",
     "output_type": "stream",
     "text": [
      "Downloading images:   0%|          | 43/10000 [01:43<5:00:07,  1.81s/it]"
     ]
    },
    {
     "name": "stdout",
     "output_type": "stream",
     "text": [
      "CPU Usage: 13.3%\n",
      "Network Usage (bytes sent/received): 1874310/8768451\n"
     ]
    },
    {
     "name": "stderr",
     "output_type": "stream",
     "text": [
      "Downloading images:   0%|          | 44/10000 [01:45<5:08:45,  1.86s/it]"
     ]
    },
    {
     "name": "stdout",
     "output_type": "stream",
     "text": [
      "CPU Usage: 13.7%\n",
      "Network Usage (bytes sent/received): 1876059/8785668\n"
     ]
    },
    {
     "name": "stderr",
     "output_type": "stream",
     "text": [
      "Downloading images:   0%|          | 45/10000 [01:47<5:21:49,  1.94s/it]"
     ]
    },
    {
     "name": "stdout",
     "output_type": "stream",
     "text": [
      "CPU Usage: 13.5%\n",
      "Network Usage (bytes sent/received): 1880146/8845942\n"
     ]
    },
    {
     "name": "stderr",
     "output_type": "stream",
     "text": [
      "Downloading images:   0%|          | 46/10000 [01:49<4:43:00,  1.71s/it]"
     ]
    },
    {
     "name": "stdout",
     "output_type": "stream",
     "text": [
      "CPU Usage: 13.1%\n",
      "Network Usage (bytes sent/received): 1883507/8950019\n"
     ]
    },
    {
     "name": "stderr",
     "output_type": "stream",
     "text": [
      "Downloading images:   0%|          | 47/10000 [01:51<4:59:55,  1.81s/it]"
     ]
    },
    {
     "name": "stdout",
     "output_type": "stream",
     "text": [
      "CPU Usage: 18.6%\n",
      "Network Usage (bytes sent/received): 1885487/8967258\n"
     ]
    },
    {
     "name": "stderr",
     "output_type": "stream",
     "text": [
      "Downloading images:   0%|          | 48/10000 [01:53<5:12:10,  1.88s/it]"
     ]
    },
    {
     "name": "stdout",
     "output_type": "stream",
     "text": [
      "CPU Usage: 12.3%\n",
      "Network Usage (bytes sent/received): 1886283/8977179\n",
      "Failed to download image from URL: http://lh6.ggpht.com/u0u90KXFN6Qyqp_VA4TcdkErZEo3_ZKVgh_jW_21OpVibfOCFhn6VTkd4R2Esc93jk2H6eKi3JPR6IoKPdurA11K=h200\n",
      "Error: HTTPConnectionPool(host='lh6.ggpht.com', port=80): Max retries exceeded with url: /u0u90KXFN6Qyqp_VA4TcdkErZEo3_ZKVgh_jW_21OpVibfOCFhn6VTkd4R2Esc93jk2H6eKi3JPR6IoKPdurA11K=h200 (Caused by ConnectTimeoutError(<urllib3.connection.HTTPConnection object at 0x000002CD0DBBFFD0>, 'Connection to lh6.ggpht.com timed out. (connect timeout=None)'))\n"
     ]
    },
    {
     "name": "stderr",
     "output_type": "stream",
     "text": [
      "Downloading images:   0%|          | 49/10000 [02:15<21:56:38,  7.94s/it]"
     ]
    },
    {
     "name": "stdout",
     "output_type": "stream",
     "text": [
      "CPU Usage: 10.2%\n",
      "Network Usage (bytes sent/received): 1887125/8978008\n"
     ]
    },
    {
     "name": "stderr",
     "output_type": "stream",
     "text": [
      "Downloading images:   0%|          | 50/10000 [02:17<17:05:02,  6.18s/it]"
     ]
    },
    {
     "name": "stdout",
     "output_type": "stream",
     "text": [
      "CPU Usage: 8.6%\n",
      "Network Usage (bytes sent/received): 1889085/8998730\n"
     ]
    },
    {
     "name": "stderr",
     "output_type": "stream",
     "text": [
      "Downloading images:   1%|          | 51/10000 [02:19<13:35:20,  4.92s/it]"
     ]
    },
    {
     "name": "stdout",
     "output_type": "stream",
     "text": [
      "CPU Usage: 9.9%\n",
      "Network Usage (bytes sent/received): 1891423/9021643\n"
     ]
    },
    {
     "name": "stderr",
     "output_type": "stream",
     "text": [
      "Downloading images:   1%|          | 52/10000 [02:21<11:04:22,  4.01s/it]"
     ]
    },
    {
     "name": "stdout",
     "output_type": "stream",
     "text": [
      "CPU Usage: 9.1%\n",
      "Network Usage (bytes sent/received): 1894528/9053624\n"
     ]
    },
    {
     "name": "stderr",
     "output_type": "stream",
     "text": [
      "Downloading images:   1%|          | 53/10000 [02:24<10:09:15,  3.68s/it]"
     ]
    },
    {
     "name": "stdout",
     "output_type": "stream",
     "text": [
      "CPU Usage: 6.2%\n",
      "Network Usage (bytes sent/received): 1905000/9213154\n"
     ]
    },
    {
     "name": "stderr",
     "output_type": "stream",
     "text": [
      "Downloading images:   1%|          | 54/10000 [02:27<9:58:54,  3.61s/it] "
     ]
    },
    {
     "name": "stdout",
     "output_type": "stream",
     "text": [
      "CPU Usage: 8.1%\n",
      "Network Usage (bytes sent/received): 1927275/9398754\n"
     ]
    },
    {
     "name": "stderr",
     "output_type": "stream",
     "text": [
      "Downloading images:   1%|          | 55/10000 [02:29<8:09:49,  2.96s/it]"
     ]
    },
    {
     "name": "stdout",
     "output_type": "stream",
     "text": [
      "CPU Usage: 6.4%\n",
      "Network Usage (bytes sent/received): 1940228/9890681\n"
     ]
    },
    {
     "name": "stderr",
     "output_type": "stream",
     "text": [
      "Downloading images:   1%|          | 56/10000 [02:31<7:37:32,  2.76s/it]"
     ]
    },
    {
     "name": "stdout",
     "output_type": "stream",
     "text": [
      "CPU Usage: 7.2%\n",
      "Network Usage (bytes sent/received): 1941013/9900543\n"
     ]
    },
    {
     "name": "stderr",
     "output_type": "stream",
     "text": [
      "Downloading images:   1%|          | 57/10000 [02:32<6:21:29,  2.30s/it]"
     ]
    },
    {
     "name": "stdout",
     "output_type": "stream",
     "text": [
      "CPU Usage: 8.4%\n",
      "Network Usage (bytes sent/received): 1941891/9913874\n"
     ]
    },
    {
     "name": "stderr",
     "output_type": "stream",
     "text": [
      "Downloading images:   1%|          | 58/10000 [02:34<5:51:06,  2.12s/it]"
     ]
    },
    {
     "name": "stdout",
     "output_type": "stream",
     "text": [
      "CPU Usage: 5.6%\n",
      "Network Usage (bytes sent/received): 1943588/9967595\n",
      "Failed to download image from URL: https://img.sharetv.com/shows/characters/thumbnails/blue_bloods.det_danny_reagan.jpg\n",
      "Error: HTTPSConnectionPool(host='img.sharetv.com', port=443): Max retries exceeded with url: /shows/characters/thumbnails/blue_bloods.det_danny_reagan.jpg (Caused by NameResolutionError(\"<urllib3.connection.HTTPSConnection object at 0x000002CD0DBBE050>: Failed to resolve 'img.sharetv.com' ([Errno 11001] getaddrinfo failed)\"))\n"
     ]
    },
    {
     "name": "stderr",
     "output_type": "stream",
     "text": [
      "Downloading images:   1%|          | 59/10000 [02:35<4:58:33,  1.80s/it]"
     ]
    },
    {
     "name": "stdout",
     "output_type": "stream",
     "text": [
      "CPU Usage: 6.7%\n",
      "Network Usage (bytes sent/received): 1943663/9967956\n"
     ]
    },
    {
     "name": "stderr",
     "output_type": "stream",
     "text": [
      "Downloading images:   1%|          | 60/10000 [02:36<4:47:36,  1.74s/it]"
     ]
    },
    {
     "name": "stdout",
     "output_type": "stream",
     "text": [
      "CPU Usage: 10.6%\n",
      "Network Usage (bytes sent/received): 1944775/9988486\n"
     ]
    },
    {
     "name": "stderr",
     "output_type": "stream",
     "text": [
      "Downloading images:   1%|          | 61/10000 [02:39<5:24:04,  1.96s/it]"
     ]
    },
    {
     "name": "stdout",
     "output_type": "stream",
     "text": [
      "CPU Usage: 16.4%\n",
      "Network Usage (bytes sent/received): 1950932/10288736\n"
     ]
    },
    {
     "name": "stderr",
     "output_type": "stream",
     "text": [
      "Downloading images:   1%|          | 62/10000 [02:41<5:12:43,  1.89s/it]"
     ]
    },
    {
     "name": "stdout",
     "output_type": "stream",
     "text": [
      "CPU Usage: 7.8%\n",
      "Network Usage (bytes sent/received): 1953965/10376726\n"
     ]
    },
    {
     "name": "stderr",
     "output_type": "stream",
     "text": [
      "Downloading images:   1%|          | 63/10000 [02:42<4:48:37,  1.74s/it]"
     ]
    },
    {
     "name": "stdout",
     "output_type": "stream",
     "text": [
      "CPU Usage: 12.0%\n",
      "Network Usage (bytes sent/received): 1955559/10385012\n"
     ]
    },
    {
     "name": "stderr",
     "output_type": "stream",
     "text": [
      "Downloading images:   1%|          | 64/10000 [02:43<4:35:05,  1.66s/it]"
     ]
    },
    {
     "name": "stdout",
     "output_type": "stream",
     "text": [
      "CPU Usage: 16.6%\n",
      "Network Usage (bytes sent/received): 1959650/10528562\n"
     ]
    },
    {
     "name": "stderr",
     "output_type": "stream",
     "text": [
      "Downloading images:   1%|          | 65/10000 [02:46<5:43:00,  2.07s/it]"
     ]
    },
    {
     "name": "stdout",
     "output_type": "stream",
     "text": [
      "CPU Usage: 10.7%\n",
      "Network Usage (bytes sent/received): 1963352/10637046\n"
     ]
    },
    {
     "name": "stderr",
     "output_type": "stream",
     "text": [
      "Downloading images:   1%|          | 66/10000 [02:48<5:12:18,  1.89s/it]"
     ]
    },
    {
     "name": "stdout",
     "output_type": "stream",
     "text": [
      "CPU Usage: 10.3%\n",
      "Network Usage (bytes sent/received): 1965744/10689665\n"
     ]
    },
    {
     "name": "stderr",
     "output_type": "stream",
     "text": [
      "Downloading images:   1%|          | 67/10000 [02:49<4:47:01,  1.73s/it]"
     ]
    },
    {
     "name": "stdout",
     "output_type": "stream",
     "text": [
      "CPU Usage: 10.4%\n",
      "Network Usage (bytes sent/received): 1967142/10729649\n"
     ]
    },
    {
     "name": "stderr",
     "output_type": "stream",
     "text": [
      "Downloading images:   1%|          | 68/10000 [02:51<4:50:01,  1.75s/it]"
     ]
    },
    {
     "name": "stdout",
     "output_type": "stream",
     "text": [
      "CPU Usage: 8.3%\n",
      "Network Usage (bytes sent/received): 1968290/10754250\n"
     ]
    },
    {
     "name": "stderr",
     "output_type": "stream",
     "text": [
      "Downloading images:   1%|          | 69/10000 [02:54<6:10:57,  2.24s/it]"
     ]
    },
    {
     "name": "stdout",
     "output_type": "stream",
     "text": [
      "CPU Usage: 10.7%\n",
      "Network Usage (bytes sent/received): 1976631/11027197\n",
      "Failed to download image from URL: https://cdn3.volusion.com/t5h6r.4srq5/v/vspfiles/photos/VU-208663-1.jpg?v-cache=1593829361\n",
      "Error: 403 Client Error: Forbidden for url: https://cdn3.volusion.com/t5h6r.4srq5/v/vspfiles/photos/VU-208663-1.jpg?v-cache=1593829361\n"
     ]
    },
    {
     "name": "stderr",
     "output_type": "stream",
     "text": [
      "Downloading images:   1%|          | 70/10000 [02:56<5:15:50,  1.91s/it]"
     ]
    },
    {
     "name": "stdout",
     "output_type": "stream",
     "text": [
      "CPU Usage: 11.2%\n",
      "Network Usage (bytes sent/received): 1978615/11035926\n"
     ]
    },
    {
     "name": "stderr",
     "output_type": "stream",
     "text": [
      "Downloading images:   1%|          | 71/10000 [02:58<5:18:28,  1.92s/it]"
     ]
    },
    {
     "name": "stdout",
     "output_type": "stream",
     "text": [
      "CPU Usage: 10.9%\n",
      "Network Usage (bytes sent/received): 1980862/11061636\n"
     ]
    },
    {
     "name": "stderr",
     "output_type": "stream",
     "text": [
      "Downloading images:   1%|          | 72/10000 [02:59<4:55:47,  1.79s/it]"
     ]
    },
    {
     "name": "stdout",
     "output_type": "stream",
     "text": [
      "CPU Usage: 10.6%\n",
      "Network Usage (bytes sent/received): 1985327/11180445\n"
     ]
    },
    {
     "name": "stderr",
     "output_type": "stream",
     "text": [
      "Downloading images:   1%|          | 73/10000 [03:00<4:28:53,  1.63s/it]"
     ]
    },
    {
     "name": "stdout",
     "output_type": "stream",
     "text": [
      "CPU Usage: 6.9%\n",
      "Network Usage (bytes sent/received): 1988257/11265023\n"
     ]
    },
    {
     "name": "stderr",
     "output_type": "stream",
     "text": [
      "Downloading images:   1%|          | 74/10000 [03:01<4:06:03,  1.49s/it]"
     ]
    },
    {
     "name": "stdout",
     "output_type": "stream",
     "text": [
      "CPU Usage: 7.8%\n",
      "Network Usage (bytes sent/received): 1990427/11301413\n",
      "Failed to download image from URL: http://www.smartandsavvymom.com/wp-content/uploads/2015/11/IMG_3891-001-683x1024.jpg\n",
      "Error: 404 Client Error: Not Found for url: https://www.smartandsavvymom.com/wp-content/uploads/2015/11/IMG_3891-001-683x1024.jpg\n"
     ]
    },
    {
     "name": "stderr",
     "output_type": "stream",
     "text": [
      "Downloading images:   1%|          | 75/10000 [03:04<4:57:05,  1.80s/it]"
     ]
    },
    {
     "name": "stdout",
     "output_type": "stream",
     "text": [
      "CPU Usage: 18.8%\n",
      "Network Usage (bytes sent/received): 1992562/11307320\n"
     ]
    },
    {
     "name": "stderr",
     "output_type": "stream",
     "text": [
      "Downloading images:   1%|          | 76/10000 [03:05<4:41:05,  1.70s/it]"
     ]
    },
    {
     "name": "stdout",
     "output_type": "stream",
     "text": [
      "CPU Usage: 12.6%\n",
      "Network Usage (bytes sent/received): 1994935/11347987\n"
     ]
    },
    {
     "name": "stderr",
     "output_type": "stream",
     "text": [
      "Downloading images:   1%|          | 77/10000 [03:08<5:00:45,  1.82s/it]"
     ]
    },
    {
     "name": "stdout",
     "output_type": "stream",
     "text": [
      "CPU Usage: 10.7%\n",
      "Network Usage (bytes sent/received): 1997813/11453162\n",
      "Failed to download image from URL: http://www.medicinefilms.com/flv/198125.jpg\n",
      "Error: 404 Client Error: Not Found for url: http://www.medicinefilms.com/flv/198125.jpg\n"
     ]
    },
    {
     "name": "stderr",
     "output_type": "stream",
     "text": [
      "Downloading images:   1%|          | 78/10000 [03:09<4:56:20,  1.79s/it]"
     ]
    },
    {
     "name": "stdout",
     "output_type": "stream",
     "text": [
      "CPU Usage: 13.2%\n",
      "Network Usage (bytes sent/received): 1998543/11454840\n"
     ]
    },
    {
     "name": "stderr",
     "output_type": "stream",
     "text": [
      "Downloading images:   1%|          | 79/10000 [03:10<4:25:47,  1.61s/it]"
     ]
    },
    {
     "name": "stdout",
     "output_type": "stream",
     "text": [
      "CPU Usage: 7.8%\n",
      "Network Usage (bytes sent/received): 2000719/11493828\n"
     ]
    },
    {
     "name": "stderr",
     "output_type": "stream",
     "text": [
      "Downloading images:   1%|          | 80/10000 [03:12<4:29:17,  1.63s/it]"
     ]
    },
    {
     "name": "stdout",
     "output_type": "stream",
     "text": [
      "CPU Usage: 9.6%\n",
      "Network Usage (bytes sent/received): 2003106/11549828\n"
     ]
    },
    {
     "name": "stderr",
     "output_type": "stream",
     "text": [
      "Downloading images:   1%|          | 81/10000 [03:13<4:14:08,  1.54s/it]"
     ]
    },
    {
     "name": "stdout",
     "output_type": "stream",
     "text": [
      "CPU Usage: 12.6%\n",
      "Network Usage (bytes sent/received): 2005125/11590238\n"
     ]
    },
    {
     "name": "stderr",
     "output_type": "stream",
     "text": [
      "Downloading images:   1%|          | 82/10000 [03:15<4:38:27,  1.68s/it]"
     ]
    },
    {
     "name": "stdout",
     "output_type": "stream",
     "text": [
      "CPU Usage: 5.0%\n",
      "Network Usage (bytes sent/received): 2015590/11754445\n"
     ]
    },
    {
     "name": "stderr",
     "output_type": "stream",
     "text": [
      "Downloading images:   1%|          | 83/10000 [03:17<4:25:04,  1.60s/it]"
     ]
    },
    {
     "name": "stdout",
     "output_type": "stream",
     "text": [
      "CPU Usage: 9.3%\n",
      "Network Usage (bytes sent/received): 2020447/11829181\n"
     ]
    },
    {
     "name": "stderr",
     "output_type": "stream",
     "text": [
      "Downloading images:   1%|          | 84/10000 [03:19<4:28:28,  1.62s/it]"
     ]
    },
    {
     "name": "stdout",
     "output_type": "stream",
     "text": [
      "CPU Usage: 8.4%\n",
      "Network Usage (bytes sent/received): 2028805/11945801\n"
     ]
    },
    {
     "name": "stderr",
     "output_type": "stream",
     "text": [
      "Downloading images:   1%|          | 85/10000 [03:21<5:17:35,  1.92s/it]"
     ]
    },
    {
     "name": "stdout",
     "output_type": "stream",
     "text": [
      "CPU Usage: 9.4%\n",
      "Network Usage (bytes sent/received): 2042649/12034749\n"
     ]
    },
    {
     "name": "stderr",
     "output_type": "stream",
     "text": [
      "Downloading images:   1%|          | 86/10000 [03:22<4:40:23,  1.70s/it]"
     ]
    },
    {
     "name": "stdout",
     "output_type": "stream",
     "text": [
      "CPU Usage: 9.9%\n",
      "Network Usage (bytes sent/received): 2044661/12070784\n",
      "Failed to download image from URL: https://cdn.shopify.com/s/files/1/0038/1412/products/cats-like-us-pink-rosette-headbandw_300x300.progressive.jpg?v=1535821883\n",
      "Error: 404 Client Error: Not Found for url: https://cdn.shopify.com/s/files/1/0038/1412/products/cats-like-us-pink-rosette-headbandw_300x300.progressive.jpg?v=1535821883\n"
     ]
    },
    {
     "name": "stderr",
     "output_type": "stream",
     "text": [
      "Downloading images:   1%|          | 87/10000 [03:24<4:28:58,  1.63s/it]"
     ]
    },
    {
     "name": "stdout",
     "output_type": "stream",
     "text": [
      "CPU Usage: 8.2%\n",
      "Network Usage (bytes sent/received): 2046336/12079142\n"
     ]
    },
    {
     "name": "stderr",
     "output_type": "stream",
     "text": [
      "Downloading images:   1%|          | 88/10000 [03:25<4:19:29,  1.57s/it]"
     ]
    },
    {
     "name": "stdout",
     "output_type": "stream",
     "text": [
      "CPU Usage: 11.7%\n",
      "Network Usage (bytes sent/received): 2047272/12088803\n"
     ]
    },
    {
     "name": "stderr",
     "output_type": "stream",
     "text": [
      "Downloading images:   1%|          | 89/10000 [03:27<4:36:55,  1.68s/it]"
     ]
    },
    {
     "name": "stdout",
     "output_type": "stream",
     "text": [
      "CPU Usage: 7.6%\n",
      "Network Usage (bytes sent/received): 2051138/12208671\n"
     ]
    },
    {
     "name": "stderr",
     "output_type": "stream",
     "text": [
      "Downloading images:   1%|          | 90/10000 [03:29<4:18:57,  1.57s/it]"
     ]
    },
    {
     "name": "stdout",
     "output_type": "stream",
     "text": [
      "CPU Usage: 11.5%\n",
      "Network Usage (bytes sent/received): 2053029/12236558\n",
      "Failed to download image from URL: https://multimedia.europarl.europa.eu/documents/20143/17434230/20080418_Del_PE_KOSOVO_019_RESIZED_S.jpg/f8756ffc-873d-96b4-ad51-2e186908038e?t=1519244916000&imageThumbnail=3\n",
      "Error: 404 Client Error: Not Found for url: https://multimedia.europarl.europa.eu/documents/20143/17434230/20080418_Del_PE_KOSOVO_019_RESIZED_S.jpg/f8756ffc-873d-96b4-ad51-2e186908038e?t=1519244916000&imageThumbnail=3\n"
     ]
    },
    {
     "name": "stderr",
     "output_type": "stream",
     "text": [
      "Downloading images:   1%|          | 91/10000 [03:30<4:19:54,  1.57s/it]"
     ]
    },
    {
     "name": "stdout",
     "output_type": "stream",
     "text": [
      "CPU Usage: 42.9%\n",
      "Network Usage (bytes sent/received): 2056738/12271831\n"
     ]
    },
    {
     "name": "stderr",
     "output_type": "stream",
     "text": [
      "Downloading images:   1%|          | 92/10000 [03:31<3:59:50,  1.45s/it]"
     ]
    },
    {
     "name": "stdout",
     "output_type": "stream",
     "text": [
      "CPU Usage: 76.5%\n",
      "Network Usage (bytes sent/received): 2060004/12304936\n"
     ]
    },
    {
     "name": "stderr",
     "output_type": "stream",
     "text": [
      "Downloading images:   1%|          | 93/10000 [03:34<4:50:42,  1.76s/it]"
     ]
    },
    {
     "name": "stdout",
     "output_type": "stream",
     "text": [
      "CPU Usage: 9.5%\n",
      "Network Usage (bytes sent/received): 2092538/12548132\n"
     ]
    },
    {
     "name": "stderr",
     "output_type": "stream",
     "text": [
      "Downloading images:   1%|          | 94/10000 [03:36<5:08:04,  1.87s/it]"
     ]
    },
    {
     "name": "stdout",
     "output_type": "stream",
     "text": [
      "CPU Usage: 56.5%\n",
      "Network Usage (bytes sent/received): 2109525/12736391\n",
      "Failed to download image from URL: http://blog.unisecure.com/wp-content/uploads/2015/07/Intels-New-Xeon-E3-1200-V4-Server-CPU.jpg\n",
      "Error: HTTPConnectionPool(host='blog.unisecure.com', port=80): Max retries exceeded with url: /wp-content/uploads/2015/07/Intels-New-Xeon-E3-1200-V4-Server-CPU.jpg (Caused by NameResolutionError(\"<urllib3.connection.HTTPConnection object at 0x000002CD0DBBD600>: Failed to resolve 'blog.unisecure.com' ([Errno 11001] getaddrinfo failed)\"))\n"
     ]
    },
    {
     "name": "stderr",
     "output_type": "stream",
     "text": [
      "Downloading images:   1%|          | 95/10000 [03:37<4:29:05,  1.63s/it]"
     ]
    },
    {
     "name": "stdout",
     "output_type": "stream",
     "text": [
      "CPU Usage: 41.4%\n",
      "Network Usage (bytes sent/received): 2120161/12799054\n"
     ]
    },
    {
     "name": "stderr",
     "output_type": "stream",
     "text": [
      "Downloading images:   1%|          | 96/10000 [03:38<4:20:29,  1.58s/it]"
     ]
    },
    {
     "name": "stdout",
     "output_type": "stream",
     "text": [
      "CPU Usage: 11.5%\n",
      "Network Usage (bytes sent/received): 2141020/13332068\n",
      "Failed to download image from URL: https://thedailynewnation.com/library/1556206321_6.jpg\n",
      "Error: 404 Client Error: Not Found for url: https://thedailynewnation.com/library/1556206321_6.jpg\n"
     ]
    },
    {
     "name": "stderr",
     "output_type": "stream",
     "text": [
      "Downloading images:   1%|          | 97/10000 [03:42<5:41:21,  2.07s/it]"
     ]
    },
    {
     "name": "stdout",
     "output_type": "stream",
     "text": [
      "CPU Usage: 16.0%\n",
      "Network Usage (bytes sent/received): 2145194/13387045\n"
     ]
    },
    {
     "name": "stderr",
     "output_type": "stream",
     "text": [
      "Downloading images:   1%|          | 98/10000 [03:43<5:26:36,  1.98s/it]"
     ]
    },
    {
     "name": "stdout",
     "output_type": "stream",
     "text": [
      "CPU Usage: 9.0%\n",
      "Network Usage (bytes sent/received): 2149662/13445259\n"
     ]
    },
    {
     "name": "stderr",
     "output_type": "stream",
     "text": [
      "Downloading images:   1%|          | 99/10000 [03:45<5:17:00,  1.92s/it]"
     ]
    },
    {
     "name": "stdout",
     "output_type": "stream",
     "text": [
      "CPU Usage: 8.1%\n",
      "Network Usage (bytes sent/received): 2153213/13558548\n"
     ]
    },
    {
     "name": "stderr",
     "output_type": "stream",
     "text": [
      "Downloading images:   1%|          | 100/10000 [03:47<4:58:42,  1.81s/it]"
     ]
    },
    {
     "name": "stdout",
     "output_type": "stream",
     "text": [
      "CPU Usage: 10.7%\n",
      "Network Usage (bytes sent/received): 2155361/13585735\n"
     ]
    },
    {
     "name": "stderr",
     "output_type": "stream",
     "text": [
      "Downloading images:   1%|          | 101/10000 [03:49<5:34:41,  2.03s/it]"
     ]
    },
    {
     "name": "stdout",
     "output_type": "stream",
     "text": [
      "CPU Usage: 14.5%\n",
      "Network Usage (bytes sent/received): 2157561/13625303\n"
     ]
    },
    {
     "name": "stderr",
     "output_type": "stream",
     "text": [
      "Downloading images:   1%|          | 102/10000 [03:51<5:11:43,  1.89s/it]"
     ]
    },
    {
     "name": "stdout",
     "output_type": "stream",
     "text": [
      "CPU Usage: 8.3%\n",
      "Network Usage (bytes sent/received): 2163952/13890049\n"
     ]
    },
    {
     "name": "stderr",
     "output_type": "stream",
     "text": [
      "Downloading images:   1%|          | 103/10000 [03:52<4:57:18,  1.80s/it]"
     ]
    },
    {
     "name": "stdout",
     "output_type": "stream",
     "text": [
      "CPU Usage: 7.3%\n",
      "Network Usage (bytes sent/received): 2165745/13903674\n",
      "Failed to download image from URL: https://images.squarespace-cdn.com/content/5826540c37c58159b6c01e3c/1489281003615-CFK1E88ICKVS6EHQCERY/denver-wedding-photographer%2C+cap-hill-engagement+session?format=1000w&content-type=image%2Fjpeg\n",
      "Error: 404 Client Error: Not Found for url: https://images.squarespace-cdn.com/content/5826540c37c58159b6c01e3c/1489281003615-CFK1E88ICKVS6EHQCERY/denver-wedding-photographer%2C+cap-hill-engagement+session?format=1000w&content-type=image%2Fjpeg\n"
     ]
    },
    {
     "name": "stderr",
     "output_type": "stream",
     "text": [
      "Downloading images:   1%|          | 104/10000 [03:54<4:34:58,  1.67s/it]"
     ]
    },
    {
     "name": "stdout",
     "output_type": "stream",
     "text": [
      "CPU Usage: 7.1%\n",
      "Network Usage (bytes sent/received): 2167346/13909876\n"
     ]
    },
    {
     "name": "stderr",
     "output_type": "stream",
     "text": [
      "Downloading images:   1%|          | 105/10000 [03:56<4:57:02,  1.80s/it]"
     ]
    },
    {
     "name": "stdout",
     "output_type": "stream",
     "text": [
      "CPU Usage: 9.9%\n",
      "Network Usage (bytes sent/received): 2169812/13935296\n"
     ]
    },
    {
     "name": "stderr",
     "output_type": "stream",
     "text": [
      "Downloading images:   1%|          | 106/10000 [03:57<4:35:29,  1.67s/it]"
     ]
    },
    {
     "name": "stdout",
     "output_type": "stream",
     "text": [
      "CPU Usage: 12.5%\n",
      "Network Usage (bytes sent/received): 2172538/14009439\n"
     ]
    },
    {
     "name": "stderr",
     "output_type": "stream",
     "text": [
      "Downloading images:   1%|          | 107/10000 [03:59<4:17:43,  1.56s/it]"
     ]
    },
    {
     "name": "stdout",
     "output_type": "stream",
     "text": [
      "CPU Usage: 7.7%\n",
      "Network Usage (bytes sent/received): 2174296/14036227\n",
      "Failed to download image from URL: https://media.gettyimages.com/photos/amber-anderson-attends-the-alexa-chung-london-fashion-week-after-at-picture-id1033889142?s=612x612\n",
      "Error: 400 Client Error: Bad Request for url: https://media.gettyimages.com/photos/amber-anderson-attends-the-alexa-chung-london-fashion-week-after-at-picture-id1033889142?s=612x612\n"
     ]
    },
    {
     "name": "stderr",
     "output_type": "stream",
     "text": [
      "Downloading images:   1%|          | 108/10000 [04:00<4:28:02,  1.63s/it]"
     ]
    },
    {
     "name": "stdout",
     "output_type": "stream",
     "text": [
      "CPU Usage: 9.2%\n",
      "Network Usage (bytes sent/received): 2175881/14043159\n"
     ]
    },
    {
     "name": "stderr",
     "output_type": "stream",
     "text": [
      "Downloading images:   1%|          | 109/10000 [04:03<5:02:09,  1.83s/it]"
     ]
    },
    {
     "name": "stdout",
     "output_type": "stream",
     "text": [
      "CPU Usage: 10.1%\n",
      "Network Usage (bytes sent/received): 2179153/14143924\n"
     ]
    },
    {
     "name": "stderr",
     "output_type": "stream",
     "text": [
      "Downloading images:   1%|          | 110/10000 [04:04<4:55:42,  1.79s/it]"
     ]
    },
    {
     "name": "stdout",
     "output_type": "stream",
     "text": [
      "CPU Usage: 9.6%\n",
      "Network Usage (bytes sent/received): 2181995/14177255\n"
     ]
    },
    {
     "name": "stderr",
     "output_type": "stream",
     "text": [
      "Downloading images:   1%|          | 111/10000 [04:07<5:14:10,  1.91s/it]"
     ]
    },
    {
     "name": "stdout",
     "output_type": "stream",
     "text": [
      "CPU Usage: 8.1%\n",
      "Network Usage (bytes sent/received): 2184094/14203476\n",
      "Failed to download image from URL: http://s3.amazonaws.com/bncore/wp-content/uploads/2016/08/5648.jpg\n",
      "Error: 403 Client Error: Forbidden for url: http://s3.amazonaws.com/bncore/wp-content/uploads/2016/08/5648.jpg\n"
     ]
    },
    {
     "name": "stderr",
     "output_type": "stream",
     "text": [
      "Downloading images:   1%|          | 112/10000 [04:08<4:59:15,  1.82s/it]"
     ]
    },
    {
     "name": "stdout",
     "output_type": "stream",
     "text": [
      "CPU Usage: 9.1%\n",
      "Network Usage (bytes sent/received): 2184733/14204600\n"
     ]
    },
    {
     "name": "stderr",
     "output_type": "stream",
     "text": [
      "Downloading images:   1%|          | 113/10000 [04:10<4:56:31,  1.80s/it]"
     ]
    },
    {
     "name": "stdout",
     "output_type": "stream",
     "text": [
      "CPU Usage: 7.7%\n",
      "Network Usage (bytes sent/received): 2187411/14314382\n"
     ]
    },
    {
     "name": "stderr",
     "output_type": "stream",
     "text": [
      "Downloading images:   1%|          | 114/10000 [04:12<4:52:31,  1.78s/it]"
     ]
    },
    {
     "name": "stdout",
     "output_type": "stream",
     "text": [
      "CPU Usage: 6.3%\n",
      "Network Usage (bytes sent/received): 2188887/14358290\n",
      "Failed to download image from URL: https://i0.wp.com/entertainmentnutz.com/post/wp-content/uploads/2011/03/600full-the-fighter-poster_thumb.jpg?resize=166%2C244\n",
      "Error: 404 Client Error: File Not Found for url: https://i0.wp.com/entertainmentnutz.com/post/wp-content/uploads/2011/03/600full-the-fighter-poster_thumb.jpg?resize=166%2C244\n"
     ]
    },
    {
     "name": "stderr",
     "output_type": "stream",
     "text": [
      "Downloading images:   1%|          | 115/10000 [04:14<5:04:29,  1.85s/it]"
     ]
    },
    {
     "name": "stdout",
     "output_type": "stream",
     "text": [
      "CPU Usage: 6.6%\n",
      "Network Usage (bytes sent/received): 2196236/14372991\n"
     ]
    },
    {
     "name": "stderr",
     "output_type": "stream",
     "text": [
      "Downloading images:   1%|          | 116/10000 [04:15<4:44:27,  1.73s/it]"
     ]
    },
    {
     "name": "stdout",
     "output_type": "stream",
     "text": [
      "CPU Usage: 18.2%\n",
      "Network Usage (bytes sent/received): 2198603/14436376\n",
      "Failed to download image from URL: http://media2.intoday.in/indiatoday/images/stories/uday-nargis-story_647_092217103508.jpg\n",
      "Error: 403 Client Error: Forbidden for url: http://media2.intoday.in/indiatoday/images/stories/uday-nargis-story_647_092217103508.jpg\n"
     ]
    },
    {
     "name": "stderr",
     "output_type": "stream",
     "text": [
      "Downloading images:   1%|          | 117/10000 [04:18<5:56:58,  2.17s/it]"
     ]
    },
    {
     "name": "stdout",
     "output_type": "stream",
     "text": [
      "CPU Usage: 8.8%\n",
      "Network Usage (bytes sent/received): 2199777/14437317\n"
     ]
    },
    {
     "name": "stderr",
     "output_type": "stream",
     "text": [
      "Downloading images:   1%|          | 118/10000 [04:21<6:18:58,  2.30s/it]"
     ]
    },
    {
     "name": "stdout",
     "output_type": "stream",
     "text": [
      "CPU Usage: 17.1%\n",
      "Network Usage (bytes sent/received): 2229797/14613276\n"
     ]
    },
    {
     "name": "stderr",
     "output_type": "stream",
     "text": [
      "Downloading images:   1%|          | 119/10000 [04:23<5:56:08,  2.16s/it]"
     ]
    },
    {
     "name": "stdout",
     "output_type": "stream",
     "text": [
      "CPU Usage: 11.9%\n",
      "Network Usage (bytes sent/received): 2231396/14648016\n"
     ]
    },
    {
     "name": "stderr",
     "output_type": "stream",
     "text": [
      "Downloading images:   1%|          | 120/10000 [04:24<5:21:43,  1.95s/it]"
     ]
    },
    {
     "name": "stdout",
     "output_type": "stream",
     "text": [
      "CPU Usage: 7.7%\n",
      "Network Usage (bytes sent/received): 2233207/14674579\n"
     ]
    },
    {
     "name": "stderr",
     "output_type": "stream",
     "text": [
      "Downloading images:   1%|          | 121/10000 [04:26<5:25:59,  1.98s/it]"
     ]
    },
    {
     "name": "stdout",
     "output_type": "stream",
     "text": [
      "CPU Usage: 9.5%\n",
      "Network Usage (bytes sent/received): 2238837/14708933\n",
      "Failed to download image from URL: http://smallworldbigcause.com/wp-content/uploads/2019/02/mountaingorilla.png\n",
      "Error: HTTPConnectionPool(host='smallworldbigcause.com', port=80): Max retries exceeded with url: /wp-content/uploads/2019/02/mountaingorilla.png (Caused by NameResolutionError(\"<urllib3.connection.HTTPConnection object at 0x000002CD0DBBC910>: Failed to resolve 'smallworldbigcause.com' ([Errno 11001] getaddrinfo failed)\"))\n"
     ]
    },
    {
     "name": "stderr",
     "output_type": "stream",
     "text": [
      "Downloading images:   1%|          | 122/10000 [04:27<4:39:36,  1.70s/it]"
     ]
    },
    {
     "name": "stdout",
     "output_type": "stream",
     "text": [
      "CPU Usage: 17.8%\n",
      "Network Usage (bytes sent/received): 2249349/14817407\n"
     ]
    },
    {
     "name": "stderr",
     "output_type": "stream",
     "text": [
      "Downloading images:   1%|          | 123/10000 [04:28<4:12:10,  1.53s/it]"
     ]
    },
    {
     "name": "stdout",
     "output_type": "stream",
     "text": [
      "CPU Usage: 17.3%\n",
      "Network Usage (bytes sent/received): 2250144/14819930\n"
     ]
    },
    {
     "name": "stderr",
     "output_type": "stream",
     "text": [
      "Downloading images:   1%|          | 124/10000 [04:30<4:07:49,  1.51s/it]"
     ]
    },
    {
     "name": "stdout",
     "output_type": "stream",
     "text": [
      "CPU Usage: 19.4%\n",
      "Network Usage (bytes sent/received): 2253244/14911895\n"
     ]
    },
    {
     "name": "stderr",
     "output_type": "stream",
     "text": [
      "Downloading images:   1%|▏         | 125/10000 [04:32<4:27:28,  1.63s/it]"
     ]
    },
    {
     "name": "stdout",
     "output_type": "stream",
     "text": [
      "CPU Usage: 21.8%\n",
      "Network Usage (bytes sent/received): 2255265/14930300\n",
      "Failed to download image from URL: https://cdn-img-3.wanelo.com/p/368/224/bff/a985fc2dff3733dc8a04cd8/x354-q80.jpg\n",
      "Error: 403 Client Error: Forbidden for url: https://cdn-img-3.wanelo.com/p/368/224/bff/a985fc2dff3733dc8a04cd8/x354-q80.jpg\n"
     ]
    },
    {
     "name": "stderr",
     "output_type": "stream",
     "text": [
      "Downloading images:   1%|▏         | 126/10000 [04:33<4:08:20,  1.51s/it]"
     ]
    },
    {
     "name": "stdout",
     "output_type": "stream",
     "text": [
      "CPU Usage: 30.0%\n",
      "Network Usage (bytes sent/received): 2256809/14939588\n",
      "Failed to download image from URL: https://d6vfwwsmhxo8w.cloudfront.net/previews/8187_1605470613_640x360.jpg\n",
      "Error: HTTPSConnectionPool(host='d6vfwwsmhxo8w.cloudfront.net', port=443): Max retries exceeded with url: /previews/8187_1605470613_640x360.jpg (Caused by NameResolutionError(\"<urllib3.connection.HTTPSConnection object at 0x000002CD0DBBD210>: Failed to resolve 'd6vfwwsmhxo8w.cloudfront.net' ([Errno 11001] getaddrinfo failed)\"))\n"
     ]
    },
    {
     "name": "stderr",
     "output_type": "stream",
     "text": [
      "Downloading images:   1%|▏         | 127/10000 [04:34<3:45:58,  1.37s/it]"
     ]
    },
    {
     "name": "stdout",
     "output_type": "stream",
     "text": [
      "CPU Usage: 11.9%\n",
      "Network Usage (bytes sent/received): 2256897/14939743\n",
      "Failed to download image from URL: http://product.nuji.com/medium/5934b195-0a1d-4b41-a624-f267c5ffee88.jpg\n",
      "Error: HTTPConnectionPool(host='product.nuji.com', port=80): Max retries exceeded with url: /medium/5934b195-0a1d-4b41-a624-f267c5ffee88.jpg (Caused by NameResolutionError(\"<urllib3.connection.HTTPConnection object at 0x000002CD0DBBDBD0>: Failed to resolve 'product.nuji.com' ([Errno 11001] getaddrinfo failed)\"))\n"
     ]
    },
    {
     "name": "stderr",
     "output_type": "stream",
     "text": [
      "Downloading images:   1%|▏         | 128/10000 [04:35<3:32:59,  1.29s/it]"
     ]
    },
    {
     "name": "stdout",
     "output_type": "stream",
     "text": [
      "CPU Usage: 22.8%\n",
      "Network Usage (bytes sent/received): 2257049/14940154\n"
     ]
    },
    {
     "name": "stderr",
     "output_type": "stream",
     "text": [
      "Downloading images:   1%|▏         | 129/10000 [04:37<3:40:18,  1.34s/it]"
     ]
    },
    {
     "name": "stdout",
     "output_type": "stream",
     "text": [
      "CPU Usage: 7.4%\n",
      "Network Usage (bytes sent/received): 2260662/15060350\n",
      "Failed to download image from URL: https://www1.pictures.stylebistro.com/gi/Breakfast+Tiffany+Broadway+Opening+Night+Arrivals+QOcZSRM3BvCp.jpg\n",
      "Error: HTTPSConnectionPool(host='www1.pictures.stylebistro.com', port=443): Max retries exceeded with url: /gi/Breakfast+Tiffany+Broadway+Opening+Night+Arrivals+QOcZSRM3BvCp.jpg (Caused by NameResolutionError(\"<urllib3.connection.HTTPSConnection object at 0x000002CD0DBBE1A0>: Failed to resolve 'www1.pictures.stylebistro.com' ([Errno 11002] getaddrinfo failed)\"))\n"
     ]
    },
    {
     "name": "stderr",
     "output_type": "stream",
     "text": [
      "Downloading images:   1%|▏         | 130/10000 [04:39<4:41:52,  1.71s/it]"
     ]
    },
    {
     "name": "stdout",
     "output_type": "stream",
     "text": [
      "CPU Usage: 6.6%\n",
      "Network Usage (bytes sent/received): 2261126/15060582\n"
     ]
    },
    {
     "name": "stderr",
     "output_type": "stream",
     "text": [
      "Downloading images:   1%|▏         | 131/10000 [04:40<4:15:04,  1.55s/it]"
     ]
    },
    {
     "name": "stdout",
     "output_type": "stream",
     "text": [
      "CPU Usage: 9.9%\n",
      "Network Usage (bytes sent/received): 2264461/15164820\n"
     ]
    },
    {
     "name": "stderr",
     "output_type": "stream",
     "text": [
      "Downloading images:   1%|▏         | 132/10000 [04:42<4:39:53,  1.70s/it]"
     ]
    },
    {
     "name": "stdout",
     "output_type": "stream",
     "text": [
      "CPU Usage: 9.9%\n",
      "Network Usage (bytes sent/received): 2266300/15187099\n",
      "Failed to download image from URL: http://media.gettyimages.com/photos/head-coach-luis-enrique-martinez-of-fc-barcelona-waves-to-the-after-picture-id474535260?s=612x612\n",
      "Error: 400 Client Error: Bad Request for url: http://media.gettyimages.com/photos/head-coach-luis-enrique-martinez-of-fc-barcelona-waves-to-the-after-picture-id474535260?s=612x612\n"
     ]
    },
    {
     "name": "stderr",
     "output_type": "stream",
     "text": [
      "Downloading images:   1%|▏         | 133/10000 [04:44<4:30:24,  1.64s/it]"
     ]
    },
    {
     "name": "stdout",
     "output_type": "stream",
     "text": [
      "CPU Usage: 13.4%\n",
      "Network Usage (bytes sent/received): 2267176/15188920\n"
     ]
    },
    {
     "name": "stderr",
     "output_type": "stream",
     "text": [
      "Downloading images:   1%|▏         | 134/10000 [04:45<4:21:42,  1.59s/it]"
     ]
    },
    {
     "name": "stdout",
     "output_type": "stream",
     "text": [
      "CPU Usage: 8.3%\n",
      "Network Usage (bytes sent/received): 2269052/15204587\n"
     ]
    },
    {
     "name": "stderr",
     "output_type": "stream",
     "text": [
      "Downloading images:   1%|▏         | 135/10000 [04:47<4:43:09,  1.72s/it]"
     ]
    },
    {
     "name": "stdout",
     "output_type": "stream",
     "text": [
      "CPU Usage: 6.1%\n",
      "Network Usage (bytes sent/received): 2270892/15225510\n",
      "Failed to download image from URL: https://www.collater.al/wp-content/uploads/2012/03/elvis-4.jpeg\n",
      "Error: 520 Server Error:  for url: https://www.collater.al/wp-content/uploads/2012/03/elvis-4.jpeg\n"
     ]
    },
    {
     "name": "stderr",
     "output_type": "stream",
     "text": [
      "Downloading images:   1%|▏         | 136/10000 [04:51<6:05:14,  2.22s/it]"
     ]
    },
    {
     "name": "stdout",
     "output_type": "stream",
     "text": [
      "CPU Usage: 8.5%\n",
      "Network Usage (bytes sent/received): 2272654/15240270\n"
     ]
    },
    {
     "name": "stderr",
     "output_type": "stream",
     "text": [
      "Downloading images:   1%|▏         | 137/10000 [04:52<5:19:02,  1.94s/it]"
     ]
    },
    {
     "name": "stdout",
     "output_type": "stream",
     "text": [
      "CPU Usage: 11.5%\n",
      "Network Usage (bytes sent/received): 2279726/15534664\n"
     ]
    },
    {
     "name": "stderr",
     "output_type": "stream",
     "text": [
      "Downloading images:   1%|▏         | 138/10000 [04:54<5:36:07,  2.04s/it]"
     ]
    },
    {
     "name": "stdout",
     "output_type": "stream",
     "text": [
      "CPU Usage: 12.1%\n",
      "Network Usage (bytes sent/received): 2281701/15566937\n"
     ]
    },
    {
     "name": "stderr",
     "output_type": "stream",
     "text": [
      "Downloading images:   1%|▏         | 139/10000 [04:56<4:53:30,  1.79s/it]"
     ]
    },
    {
     "name": "stdout",
     "output_type": "stream",
     "text": [
      "CPU Usage: 15.7%\n",
      "Network Usage (bytes sent/received): 2284313/15632253\n"
     ]
    },
    {
     "name": "stderr",
     "output_type": "stream",
     "text": [
      "Downloading images:   1%|▏         | 140/10000 [04:57<4:23:39,  1.60s/it]"
     ]
    },
    {
     "name": "stdout",
     "output_type": "stream",
     "text": [
      "CPU Usage: 7.3%\n",
      "Network Usage (bytes sent/received): 2286490/15676434\n"
     ]
    },
    {
     "name": "stderr",
     "output_type": "stream",
     "text": [
      "Downloading images:   1%|▏         | 141/10000 [04:59<5:12:47,  1.90s/it]"
     ]
    },
    {
     "name": "stdout",
     "output_type": "stream",
     "text": [
      "CPU Usage: 11.5%\n",
      "Network Usage (bytes sent/received): 2290561/15814328\n"
     ]
    },
    {
     "name": "stderr",
     "output_type": "stream",
     "text": [
      "Downloading images:   1%|▏         | 142/10000 [05:01<5:20:21,  1.95s/it]"
     ]
    },
    {
     "name": "stdout",
     "output_type": "stream",
     "text": [
      "CPU Usage: 7.3%\n",
      "Network Usage (bytes sent/received): 2296297/16044227\n"
     ]
    },
    {
     "name": "stderr",
     "output_type": "stream",
     "text": [
      "Downloading images:   1%|▏         | 143/10000 [05:03<5:06:17,  1.86s/it]"
     ]
    },
    {
     "name": "stdout",
     "output_type": "stream",
     "text": [
      "CPU Usage: 6.6%\n",
      "Network Usage (bytes sent/received): 2297130/16054323\n",
      "Failed to download image from URL: http://szcdn.raagalahari.com/april2012/starzone/heroine-suhasini-hires/heroine-suhasini-hires1t.jpg\n",
      "Error: 403 Client Error: Forbidden for url: http://szcdn.raagalahari.com/april2012/starzone/heroine-suhasini-hires/heroine-suhasini-hires1t.jpg\n"
     ]
    },
    {
     "name": "stderr",
     "output_type": "stream",
     "text": [
      "Downloading images:   1%|▏         | 144/10000 [05:05<4:47:45,  1.75s/it]"
     ]
    },
    {
     "name": "stdout",
     "output_type": "stream",
     "text": [
      "CPU Usage: 11.7%\n",
      "Network Usage (bytes sent/received): 2297873/16054963\n"
     ]
    },
    {
     "name": "stderr",
     "output_type": "stream",
     "text": [
      "Downloading images:   1%|▏         | 145/10000 [05:07<5:16:38,  1.93s/it]"
     ]
    },
    {
     "name": "stdout",
     "output_type": "stream",
     "text": [
      "CPU Usage: 4.4%\n",
      "Network Usage (bytes sent/received): 2300452/16106572\n"
     ]
    },
    {
     "name": "stderr",
     "output_type": "stream",
     "text": [
      "Downloading images:   1%|▏         | 146/10000 [05:10<6:19:45,  2.31s/it]"
     ]
    },
    {
     "name": "stdout",
     "output_type": "stream",
     "text": [
      "CPU Usage: 7.6%\n",
      "Network Usage (bytes sent/received): 2303821/16174082\n"
     ]
    },
    {
     "name": "stderr",
     "output_type": "stream",
     "text": [
      "Downloading images:   1%|▏         | 147/10000 [05:12<5:37:12,  2.05s/it]"
     ]
    },
    {
     "name": "stdout",
     "output_type": "stream",
     "text": [
      "CPU Usage: 10.1%\n",
      "Network Usage (bytes sent/received): 2315340/16703505\n"
     ]
    },
    {
     "name": "stderr",
     "output_type": "stream",
     "text": [
      "Downloading images:   1%|▏         | 148/10000 [05:13<5:21:16,  1.96s/it]"
     ]
    },
    {
     "name": "stdout",
     "output_type": "stream",
     "text": [
      "CPU Usage: 10.0%\n",
      "Network Usage (bytes sent/received): 2316295/16713990\n",
      "Failed to download image from URL: http://1ywpi925eu8i25ne6noy0131.wpengine.netdna-cdn.com/wp-content/uploads/2015/09/Screen-Shot-2015-09-09-at-9.38.32-AM-1024x589.png\n",
      "Error: HTTPConnectionPool(host='1ywpi925eu8i25ne6noy0131.wpengine.netdna-cdn.com', port=80): Max retries exceeded with url: /wp-content/uploads/2015/09/Screen-Shot-2015-09-09-at-9.38.32-AM-1024x589.png (Caused by NameResolutionError(\"<urllib3.connection.HTTPConnection object at 0x000002CD0D6EB040>: Failed to resolve '1ywpi925eu8i25ne6noy0131.wpengine.netdna-cdn.com' ([Errno 11001] getaddrinfo failed)\"))\n"
     ]
    },
    {
     "name": "stderr",
     "output_type": "stream",
     "text": [
      "Downloading images:   1%|▏         | 149/10000 [05:14<4:41:26,  1.71s/it]"
     ]
    },
    {
     "name": "stdout",
     "output_type": "stream",
     "text": [
      "CPU Usage: 20.0%\n",
      "Network Usage (bytes sent/received): 2316511/16714362\n"
     ]
    },
    {
     "name": "stderr",
     "output_type": "stream",
     "text": [
      "Downloading images:   2%|▏         | 150/10000 [05:16<4:46:23,  1.74s/it]"
     ]
    },
    {
     "name": "stdout",
     "output_type": "stream",
     "text": [
      "CPU Usage: 11.0%\n",
      "Network Usage (bytes sent/received): 2319083/16769316\n"
     ]
    },
    {
     "name": "stderr",
     "output_type": "stream",
     "text": [
      "Downloading images:   2%|▏         | 151/10000 [05:19<5:11:13,  1.90s/it]"
     ]
    },
    {
     "name": "stdout",
     "output_type": "stream",
     "text": [
      "CPU Usage: 15.8%\n",
      "Network Usage (bytes sent/received): 2325241/17059101\n"
     ]
    },
    {
     "name": "stderr",
     "output_type": "stream",
     "text": [
      "Downloading images:   2%|▏         | 152/10000 [05:21<5:32:17,  2.02s/it]"
     ]
    },
    {
     "name": "stdout",
     "output_type": "stream",
     "text": [
      "CPU Usage: 14.6%\n",
      "Network Usage (bytes sent/received): 2328642/17187377\n",
      "Failed to download image from URL: https://www3.pictures.stylebistro.com/pc/Malin+Akerman+Pants+Shorts+Dress+Shorts+dsuMCn2Dryhl.jpg\n",
      "Error: HTTPSConnectionPool(host='www3.pictures.stylebistro.com', port=443): Max retries exceeded with url: /pc/Malin+Akerman+Pants+Shorts+Dress+Shorts+dsuMCn2Dryhl.jpg (Caused by NameResolutionError(\"<urllib3.connection.HTTPSConnection object at 0x000002CD0DBBDF90>: Failed to resolve 'www3.pictures.stylebistro.com' ([Errno 11002] getaddrinfo failed)\"))\n"
     ]
    },
    {
     "name": "stderr",
     "output_type": "stream",
     "text": [
      "Downloading images:   2%|▏         | 153/10000 [05:25<7:11:50,  2.63s/it]"
     ]
    },
    {
     "name": "stdout",
     "output_type": "stream",
     "text": [
      "CPU Usage: 26.7%\n",
      "Network Usage (bytes sent/received): 2329233/17187715\n"
     ]
    },
    {
     "name": "stderr",
     "output_type": "stream",
     "text": [
      "Downloading images:   2%|▏         | 154/10000 [05:26<6:17:37,  2.30s/it]"
     ]
    },
    {
     "name": "stdout",
     "output_type": "stream",
     "text": [
      "CPU Usage: 16.9%\n",
      "Network Usage (bytes sent/received): 2330734/17223976\n"
     ]
    },
    {
     "name": "stderr",
     "output_type": "stream",
     "text": [
      "Downloading images:   2%|▏         | 155/10000 [05:29<6:33:51,  2.40s/it]"
     ]
    },
    {
     "name": "stdout",
     "output_type": "stream",
     "text": [
      "CPU Usage: 9.1%\n",
      "Network Usage (bytes sent/received): 2332471/17273626\n"
     ]
    },
    {
     "name": "stderr",
     "output_type": "stream",
     "text": [
      "Downloading images:   2%|▏         | 155/10000 [05:31<5:50:37,  2.14s/it]\n"
     ]
    },
    {
     "ename": "KeyboardInterrupt",
     "evalue": "",
     "output_type": "error",
     "traceback": [
      "\u001b[1;31m---------------------------------------------------------------------------\u001b[0m",
      "\u001b[1;31mKeyboardInterrupt\u001b[0m                         Traceback (most recent call last)",
      "Cell \u001b[1;32mIn[2], line 53\u001b[0m\n\u001b[0;32m     50\u001b[0m         monitor_network()\n\u001b[0;32m     52\u001b[0m \u001b[38;5;28;01mif\u001b[39;00m \u001b[38;5;18m__name__\u001b[39m \u001b[38;5;241m==\u001b[39m \u001b[38;5;124m\"\u001b[39m\u001b[38;5;124m__main__\u001b[39m\u001b[38;5;124m\"\u001b[39m:\n\u001b[1;32m---> 53\u001b[0m     \u001b[43mmain\u001b[49m\u001b[43m(\u001b[49m\u001b[43m)\u001b[49m\n",
      "Cell \u001b[1;32mIn[2], line 49\u001b[0m, in \u001b[0;36mmain\u001b[1;34m()\u001b[0m\n\u001b[0;32m     47\u001b[0m filename \u001b[38;5;241m=\u001b[39m \u001b[38;5;124mf\u001b[39m\u001b[38;5;124m\"\u001b[39m\u001b[38;5;124mimages/image_\u001b[39m\u001b[38;5;132;01m{\u001b[39;00mi\u001b[38;5;132;01m}\u001b[39;00m\u001b[38;5;124m.jpg\u001b[39m\u001b[38;5;124m\"\u001b[39m\n\u001b[0;32m     48\u001b[0m download_image(url, filename)\n\u001b[1;32m---> 49\u001b[0m \u001b[43mmonitor_cpu\u001b[49m\u001b[43m(\u001b[49m\u001b[43m)\u001b[49m\n\u001b[0;32m     50\u001b[0m monitor_network()\n",
      "Cell \u001b[1;32mIn[2], line 31\u001b[0m, in \u001b[0;36mmonitor_cpu\u001b[1;34m()\u001b[0m\n\u001b[0;32m     30\u001b[0m \u001b[38;5;28;01mdef\u001b[39;00m \u001b[38;5;21mmonitor_cpu\u001b[39m():\n\u001b[1;32m---> 31\u001b[0m     cpu_percent \u001b[38;5;241m=\u001b[39m \u001b[43mpsutil\u001b[49m\u001b[38;5;241;43m.\u001b[39;49m\u001b[43mcpu_percent\u001b[49m\u001b[43m(\u001b[49m\u001b[43minterval\u001b[49m\u001b[38;5;241;43m=\u001b[39;49m\u001b[38;5;241;43m1\u001b[39;49m\u001b[43m)\u001b[49m\n\u001b[0;32m     32\u001b[0m     \u001b[38;5;28mprint\u001b[39m(\u001b[38;5;124mf\u001b[39m\u001b[38;5;124m'\u001b[39m\u001b[38;5;124mCPU Usage: \u001b[39m\u001b[38;5;132;01m{\u001b[39;00mcpu_percent\u001b[38;5;132;01m}\u001b[39;00m\u001b[38;5;124m%\u001b[39m\u001b[38;5;124m'\u001b[39m)\n",
      "File \u001b[1;32mc:\\Users\\adith\\AppData\\Local\\Programs\\Python\\Python310\\lib\\site-packages\\psutil\\__init__.py:1744\u001b[0m, in \u001b[0;36mcpu_percent\u001b[1;34m(interval, percpu)\u001b[0m\n\u001b[0;32m   1742\u001b[0m \u001b[38;5;28;01mif\u001b[39;00m blocking:\n\u001b[0;32m   1743\u001b[0m     t1 \u001b[38;5;241m=\u001b[39m cpu_times()\n\u001b[1;32m-> 1744\u001b[0m     \u001b[43mtime\u001b[49m\u001b[38;5;241;43m.\u001b[39;49m\u001b[43msleep\u001b[49m\u001b[43m(\u001b[49m\u001b[43minterval\u001b[49m\u001b[43m)\u001b[49m\n\u001b[0;32m   1745\u001b[0m \u001b[38;5;28;01melse\u001b[39;00m:\n\u001b[0;32m   1746\u001b[0m     t1 \u001b[38;5;241m=\u001b[39m _last_cpu_times\n",
      "\u001b[1;31mKeyboardInterrupt\u001b[0m: "
     ]
    }
   ],
   "source": [
    "import os\n",
    "import psutil\n",
    "import pyarrow.parquet as pq\n",
    "import requests\n",
    "from tqdm import tqdm\n",
    "from io import BytesIO\n",
    "\n",
    "# Function to download image from URL\n",
    "def download_image(url, filename):\n",
    "    try:\n",
    "        headers = {\n",
    "            \"User-Agent\": \"Mozilla/5.0 (Windows NT 10.0; Win64; x64) AppleWebKit/537.36 (KHTML, like Gecko) Chrome/58.0.3029.110 Safari/537.3\"\n",
    "        }\n",
    "        response = requests.get(url, headers=headers, stream=True)\n",
    "        response.raise_for_status()\n",
    "\n",
    "        file_ext = os.path.splitext(url)[1]\n",
    "        if file_ext.lower() not in [\".jpg\", \".jpeg\", \".png\", \".gif\"]:\n",
    "            file_ext = \".jpg\"\n",
    "        # Save the image to a file\n",
    "        with open(filename, \"wb\") as f:\n",
    "            for chunk in response.iter_content(chunk_size=8192):\n",
    "                f.write(chunk)\n",
    "\n",
    "    except requests.exceptions.RequestException as e:\n",
    "        print(f\"Failed to download image from URL: {url}\")\n",
    "        print(f\"Error: {e}\")\n",
    "\n",
    "# Function to monitor CPU usage\n",
    "def monitor_cpu():\n",
    "    cpu_percent = psutil.cpu_percent(interval=1)\n",
    "    print(f'CPU Usage: {cpu_percent}%')\n",
    "\n",
    "# Function to monitor network usage\n",
    "def monitor_network():\n",
    "    network_usage = psutil.net_io_counters()\n",
    "    print(f'Network Usage (bytes sent/received): {network_usage.bytes_sent}/{network_usage.bytes_recv}')\n",
    "\n",
    "def main():\n",
    "    # Get the first 10,000 URLs\n",
    "    urls = pq.read_table(\"links.parquet\", columns=[\"URL\"])[\"URL\"][:10000].to_numpy()\n",
    "\n",
    "    # Create a directory to store the images\n",
    "    os.makedirs(\"images\", exist_ok=True)\n",
    "\n",
    "    for i, url in enumerate(tqdm(urls, desc=\"Downloading images\")):\n",
    "        filename = f\"images/image_{i}.jpg\"\n",
    "        download_image(url, filename)\n",
    "        monitor_cpu()\n",
    "        monitor_network()\n",
    "\n",
    "if __name__ == \"__main__\":\n",
    "    main()\n"
   ]
  }
 ],
 "metadata": {
  "kernelspec": {
   "display_name": "base",
   "language": "python",
   "name": "python3"
  },
  "language_info": {
   "codemirror_mode": {
    "name": "ipython",
    "version": 3
   },
   "file_extension": ".py",
   "mimetype": "text/x-python",
   "name": "python",
   "nbconvert_exporter": "python",
   "pygments_lexer": "ipython3",
   "version": "3.10.10"
  }
 },
 "nbformat": 4,
 "nbformat_minor": 2
}
